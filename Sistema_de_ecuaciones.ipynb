{
 "cells": [
  {
   "cell_type": "markdown",
   "metadata": {},
   "source": [
    "# TELESCOPIO ESPACIAL JAMES WEBB\n",
    "PLANTEAMIENTO DEL SISTEMA DE ECUACIONES PARA EL TELESCOPIO\n",
    "\n",
    "- Concición de perperdicularidad\n",
    "\n",
    "<p align=\"center\">\n",
    "<img src=\"Imagenes/Telescopio_espacial.png\" alt=\"image\" width=\"600\"/>\n",
    "</p>\n",
    "\n",
    "DESCRIPCION DEL MODELO:\n",
    "- El centro de la base 'B' se encuentra en *(0,0)*\n",
    "- El punto *P(x,y)* representa el objetivo al que el espejo debe orientarse\n",
    "\n"
   ]
  },
  {
   "cell_type": "markdown",
   "metadata": {},
   "source": [
    "### CONDICIÓN DE PERPERDICULARIDAD\n",
    "Para Para resolver la condición de perpendicularidad del espejo secundario con respecto a la dirección hacia el punto *P(x,y)*, consideremos la siguiente geometría y planteamiento:\n",
    "- El espejo secundario 'L' debe estar orientado de forma que su superficie sea perpendicular a la dirección de *P(x,y)*\n",
    "- Supongamos que $\\vec{L}$ representa un vector normal del espejo secundario y que $\\vec{E}$ representa a la estrella que queremos enfocar, entonces:\n",
    "  *$\\vec{L}$ x $\\vec{E}$ = 0*\n"
   ]
  },
  {
   "cell_type": "markdown",
   "metadata": {},
   "source": []
  }
 ],
 "metadata": {
  "language_info": {
   "name": "python"
  }
 },
 "nbformat": 4,
 "nbformat_minor": 2
}
